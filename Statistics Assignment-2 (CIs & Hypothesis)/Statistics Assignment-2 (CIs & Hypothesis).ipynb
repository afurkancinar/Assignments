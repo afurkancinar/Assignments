{
 "cells": [
  {
   "cell_type": "markdown",
   "id": "9f40e40a",
   "metadata": {},
   "source": [
    "## Statistics Assignment-2 (CIs & Hypothesis) (DS-15 EU)"
   ]
  },
  {
   "cell_type": "code",
   "execution_count": 1,
   "id": "55e91b01",
   "metadata": {},
   "outputs": [],
   "source": [
    "import numpy as np\n",
    "import pandas as pd\n",
    "from scipy import stats\n",
    "import matplotlib.pyplot as plt\n",
    "import seaborn as sns\n",
    "import math"
   ]
  },
  {
   "cell_type": "markdown",
   "id": "b5260254",
   "metadata": {},
   "source": [
    "### CONFIDENCE INTERVALS"
   ]
  },
  {
   "cell_type": "markdown",
   "id": "50274c73",
   "metadata": {},
   "source": [
    "#### EXERCISE 1."
   ]
  },
  {
   "cell_type": "markdown",
   "id": "100f5faa",
   "metadata": {},
   "source": [
    "What is the normal body temperature for healthy humans? A random sample of 130 healthy human body temperatures provided by Allen Shoemaker yielded 98.25 degrees and standard deviation 0.73 degrees. \n",
    "\n",
    "Give a 99% confidence interval for the average body temperature of healthy people."
   ]
  },
  {
   "cell_type": "code",
   "execution_count": 2,
   "id": "d865caa9",
   "metadata": {},
   "outputs": [
    {
     "data": {
      "text/plain": [
       "(98.08508192246582, 98.41491807753418)"
      ]
     },
     "execution_count": 2,
     "metadata": {},
     "output_type": "execute_result"
    }
   ],
   "source": [
    "sample_mean = 98.25\n",
    "sample_std = 0.73\n",
    "sample_size = 130\n",
    "confidence_level = 0.99\n",
    "\n",
    "standard_error = sample_std / np.sqrt(sample_size)\n",
    "\n",
    "ci_z = stats.norm.interval(0.99,sample_mean , standard_error)\n",
    "ci_z"
   ]
  },
  {
   "cell_type": "markdown",
   "id": "830a1f0e",
   "metadata": {},
   "source": [
    "#### EXERCISE 2."
   ]
  },
  {
   "cell_type": "markdown",
   "id": "7e3c5333",
   "metadata": {},
   "source": [
    "The administrators for a hospital wished to estimate the average number of days required for inpatient treatment of patients between the ages of 25 and 34. A random sample of 500 hospital patients between these ages produced a mean and standard deviation equal to 5.4 and 3.1 days, respectively.\n",
    "\n",
    "\n",
    "Construct a 95% confidence interval for the mean length of stay for the population of patients from which the sample was drawn."
   ]
  },
  {
   "cell_type": "code",
   "execution_count": 3,
   "id": "5aaca50e",
   "metadata": {},
   "outputs": [
    {
     "data": {
      "text/plain": [
       "(5.12827801242126, 5.67172198757874)"
      ]
     },
     "execution_count": 3,
     "metadata": {},
     "output_type": "execute_result"
    }
   ],
   "source": [
    "sample_mean = 5.4\n",
    "sample_std = 3.1\n",
    "sample_size = 500\n",
    "confidence_level = 0.95\n",
    "\n",
    "standard_error = sample_std / np.sqrt(sample_size)\n",
    "\n",
    "ci_z = stats.norm.interval(0.95,sample_mean , standard_error)\n",
    "ci_z\n"
   ]
  },
  {
   "cell_type": "markdown",
   "id": "598a2f5f",
   "metadata": {},
   "source": [
    "### HYPOTHESIS TESTING"
   ]
  },
  {
   "cell_type": "markdown",
   "id": "76735a22",
   "metadata": {},
   "source": [
    "#### EXERCISE 3."
   ]
  },
  {
   "cell_type": "markdown",
   "id": "1d35dc23",
   "metadata": {},
   "source": [
    "The hourly wages in a particular industry are normally distributed with mean 13.20 Dollars and standard deviation  2.50 Dollars. A company in this industry employs 40 workers, paying them an average of $12.20 per hour. Can this company be accused of paying substandard wages? Use an α = .01 level test. (Wackerly, Ex.10.18)\n",
    "\n",
    "CHECK: statistic: -2.5298221281347035, pvalue= 0.005706018193000826"
   ]
  },
  {
   "cell_type": "code",
   "execution_count": 4,
   "id": "3352fc6a",
   "metadata": {},
   "outputs": [],
   "source": [
    "x_bar = 12.20 # sample mean\n",
    "n = 40 # number of samples\n",
    "sigma = 2.5 # sd of population\n",
    "mu = 13.20 # Population mean"
   ]
  },
  {
   "cell_type": "code",
   "execution_count": 5,
   "id": "16da1d52",
   "metadata": {},
   "outputs": [
    {
     "data": {
      "text/plain": [
       "-2.5298221281347035"
      ]
     },
     "execution_count": 5,
     "metadata": {},
     "output_type": "execute_result"
    }
   ],
   "source": [
    "z = (x_bar - mu)/(sigma/np.sqrt(n))\n",
    "z"
   ]
  },
  {
   "cell_type": "code",
   "execution_count": 6,
   "id": "dfa34722",
   "metadata": {},
   "outputs": [
    {
     "data": {
      "text/plain": [
       "0.005706018193000824"
      ]
     },
     "execution_count": 6,
     "metadata": {},
     "output_type": "execute_result"
    }
   ],
   "source": [
    "p_value = stats.norm.cdf(z)\n",
    "p_value"
   ]
  },
  {
   "cell_type": "code",
   "execution_count": 7,
   "id": "69942cdb",
   "metadata": {},
   "outputs": [
    {
     "name": "stdout",
     "output_type": "stream",
     "text": [
      "At 0.01 level of significance, we can reject the null hypothesis in favor of alternative hypothesis.\n"
     ]
    }
   ],
   "source": [
    "alpha = 0.01\n",
    "\n",
    "if p_value<alpha:\n",
    "    print('At {} level of significance, we can reject the null hypothesis in favor of alternative hypothesis.'.format(alpha))\n",
    "else:\n",
    "    print('At {} level of significance, we fail to reject the null hypothesis.'.format(alpha))"
   ]
  },
  {
   "cell_type": "markdown",
   "id": "b21d8dfd",
   "metadata": {},
   "source": [
    "#### EXERCISE 4."
   ]
  },
  {
   "cell_type": "markdown",
   "id": "380c5c1d",
   "metadata": {},
   "source": [
    "Shear strength measurements derived from unconfined compression tests for two types of soils gave the results shown in the following document (measurements in tons per square foot). Do the soils appear to differ with respect to average shear strength, at the 1% significance level?\n",
    "\n",
    "Results for two type of soils (https://docs.google.com/spreadsheets/d/1f2odmgDboIVuSV-A5gmuC25ppqQ5g1OIIF4h5EOqUcI/edit?usp=sharing)\n",
    "\n",
    "CHECK: statistic: 5.1681473319343345, pvalue= 2.593228732352821e-06"
   ]
  },
  {
   "cell_type": "code",
   "execution_count": 8,
   "id": "34379db6",
   "metadata": {},
   "outputs": [
    {
     "data": {
      "text/html": [
       "<div>\n",
       "<style scoped>\n",
       "    .dataframe tbody tr th:only-of-type {\n",
       "        vertical-align: middle;\n",
       "    }\n",
       "\n",
       "    .dataframe tbody tr th {\n",
       "        vertical-align: top;\n",
       "    }\n",
       "\n",
       "    .dataframe thead th {\n",
       "        text-align: right;\n",
       "    }\n",
       "</style>\n",
       "<table border=\"1\" class=\"dataframe\">\n",
       "  <thead>\n",
       "    <tr style=\"text-align: right;\">\n",
       "      <th></th>\n",
       "      <th>Soil1</th>\n",
       "      <th>Soil2</th>\n",
       "    </tr>\n",
       "  </thead>\n",
       "  <tbody>\n",
       "    <tr>\n",
       "      <th>0</th>\n",
       "      <td>1.442</td>\n",
       "      <td>1.364</td>\n",
       "    </tr>\n",
       "    <tr>\n",
       "      <th>1</th>\n",
       "      <td>1.943</td>\n",
       "      <td>1.878</td>\n",
       "    </tr>\n",
       "    <tr>\n",
       "      <th>2</th>\n",
       "      <td>1.110</td>\n",
       "      <td>1.337</td>\n",
       "    </tr>\n",
       "    <tr>\n",
       "      <th>3</th>\n",
       "      <td>1.912</td>\n",
       "      <td>1.828</td>\n",
       "    </tr>\n",
       "    <tr>\n",
       "      <th>4</th>\n",
       "      <td>1.553</td>\n",
       "      <td>1.371</td>\n",
       "    </tr>\n",
       "  </tbody>\n",
       "</table>\n",
       "</div>"
      ],
      "text/plain": [
       "   Soil1  Soil2\n",
       "0  1.442  1.364\n",
       "1  1.943  1.878\n",
       "2  1.110  1.337\n",
       "3  1.912  1.828\n",
       "4  1.553  1.371"
      ]
     },
     "execution_count": 8,
     "metadata": {},
     "output_type": "execute_result"
    }
   ],
   "source": [
    "df = pd.read_csv('soil - Sheet1.csv',encoding= 'unicode_escape')\n",
    "df.head()"
   ]
  },
  {
   "cell_type": "code",
   "execution_count": 9,
   "id": "756cb045",
   "metadata": {},
   "outputs": [
    {
     "data": {
      "text/plain": [
       "(35, 2)"
      ]
     },
     "execution_count": 9,
     "metadata": {},
     "output_type": "execute_result"
    }
   ],
   "source": [
    "df.shape"
   ]
  },
  {
   "cell_type": "code",
   "execution_count": 10,
   "id": "12b01418",
   "metadata": {},
   "outputs": [
    {
     "data": {
      "text/plain": [
       "Soil1    5\n",
       "Soil2    0\n",
       "dtype: int64"
      ]
     },
     "execution_count": 10,
     "metadata": {},
     "output_type": "execute_result"
    }
   ],
   "source": [
    "df.isna().sum()"
   ]
  },
  {
   "cell_type": "code",
   "execution_count": 11,
   "id": "d72b9506",
   "metadata": {},
   "outputs": [
    {
     "data": {
      "text/plain": [
       "Ttest_indResult(statistic=array([5.16814733]), pvalue=array([2.59322873e-06]))"
      ]
     },
     "execution_count": 11,
     "metadata": {},
     "output_type": "execute_result"
    }
   ],
   "source": [
    "indTest =stats.ttest_ind(df[[\"Soil1\"]].dropna(), df[[\"Soil2\"]])\n",
    "indTest"
   ]
  },
  {
   "cell_type": "code",
   "execution_count": 12,
   "id": "942e7a71",
   "metadata": {},
   "outputs": [
    {
     "data": {
      "text/plain": [
       "array([5.16814733])"
      ]
     },
     "execution_count": 12,
     "metadata": {},
     "output_type": "execute_result"
    }
   ],
   "source": [
    "indTest.statistic"
   ]
  },
  {
   "cell_type": "code",
   "execution_count": 13,
   "id": "c5cea128",
   "metadata": {},
   "outputs": [
    {
     "data": {
      "text/plain": [
       "array([2.59322873e-06])"
      ]
     },
     "execution_count": 13,
     "metadata": {},
     "output_type": "execute_result"
    }
   ],
   "source": [
    "indTest.pvalue"
   ]
  },
  {
   "cell_type": "code",
   "execution_count": 14,
   "id": "b5ac3fe6",
   "metadata": {},
   "outputs": [
    {
     "name": "stdout",
     "output_type": "stream",
     "text": [
      "Reject the null. At the α=0.01, we have sufficient evidence to indicate that mean body temperatures differ for men and women. \n"
     ]
    }
   ],
   "source": [
    "# Decision\n",
    "alpha = 0.01\n",
    "\n",
    "if indTest.pvalue < alpha:\n",
    "    print(\"Reject the null. At the α=0.01, we have sufficient evidence to indicate that mean body temperatures differ for men and women. \")\n",
    "else:\n",
    "    print(\"Fail to reject the null.\")"
   ]
  },
  {
   "cell_type": "markdown",
   "id": "9c05ac2a",
   "metadata": {},
   "source": [
    "\n",
    "#### EXERCISE 5. "
   ]
  },
  {
   "cell_type": "markdown",
   "id": "20fa64e3",
   "metadata": {},
   "source": [
    "The following dataset is based on data provided by the World Bank (https://datacatalog.worldbank.org/dataset/education-statistics). World Bank Edstats.  2015 PISA Test Dataset (https://docs.google.com/spreadsheets/d/14rVnIUfEm3CuK9bSvS5253RHWzQhXOuNc0I-cCkgpR8/edit?usp=sharing)\n",
    "\n",
    "1-Get descriptive statistics (the central tendency, dispersion and shape of a dataset’s distribution) for each continent group (AS, EU, AF, NA, SA, OC).\n",
    "\n",
    "2-Determine whether there is any difference (on the average) for the math scores among European (EU) and Asian (AS) countries (assume normality and equal variances). Draw side-by-side box plots.\n",
    "CHECK: statistic=0.870055317967983, pvalue=0.38826888111307345"
   ]
  },
  {
   "cell_type": "code",
   "execution_count": 15,
   "id": "3b0ac86f",
   "metadata": {},
   "outputs": [
    {
     "data": {
      "text/html": [
       "<div>\n",
       "<style scoped>\n",
       "    .dataframe tbody tr th:only-of-type {\n",
       "        vertical-align: middle;\n",
       "    }\n",
       "\n",
       "    .dataframe tbody tr th {\n",
       "        vertical-align: top;\n",
       "    }\n",
       "\n",
       "    .dataframe thead th {\n",
       "        text-align: right;\n",
       "    }\n",
       "</style>\n",
       "<table border=\"1\" class=\"dataframe\">\n",
       "  <thead>\n",
       "    <tr style=\"text-align: right;\">\n",
       "      <th></th>\n",
       "      <th>Country Code</th>\n",
       "      <th>Continent_Code</th>\n",
       "      <th>internet_users_per_100</th>\n",
       "      <th>Math</th>\n",
       "      <th>Reading</th>\n",
       "      <th>Science</th>\n",
       "    </tr>\n",
       "  </thead>\n",
       "  <tbody>\n",
       "    <tr>\n",
       "      <th>0</th>\n",
       "      <td>ALB</td>\n",
       "      <td>EU</td>\n",
       "      <td>63.252933</td>\n",
       "      <td>413.1570</td>\n",
       "      <td>405.2588</td>\n",
       "      <td>427.2250</td>\n",
       "    </tr>\n",
       "    <tr>\n",
       "      <th>1</th>\n",
       "      <td>ARE</td>\n",
       "      <td>AS</td>\n",
       "      <td>90.500000</td>\n",
       "      <td>427.4827</td>\n",
       "      <td>433.5423</td>\n",
       "      <td>436.7311</td>\n",
       "    </tr>\n",
       "    <tr>\n",
       "      <th>2</th>\n",
       "      <td>ARG</td>\n",
       "      <td>SA</td>\n",
       "      <td>68.043064</td>\n",
       "      <td>409.0333</td>\n",
       "      <td>425.3031</td>\n",
       "      <td>432.2262</td>\n",
       "    </tr>\n",
       "    <tr>\n",
       "      <th>3</th>\n",
       "      <td>AUS</td>\n",
       "      <td>OC</td>\n",
       "      <td>84.560519</td>\n",
       "      <td>493.8962</td>\n",
       "      <td>502.9006</td>\n",
       "      <td>509.9939</td>\n",
       "    </tr>\n",
       "    <tr>\n",
       "      <th>4</th>\n",
       "      <td>AUT</td>\n",
       "      <td>EU</td>\n",
       "      <td>83.940142</td>\n",
       "      <td>496.7423</td>\n",
       "      <td>484.8656</td>\n",
       "      <td>495.0375</td>\n",
       "    </tr>\n",
       "  </tbody>\n",
       "</table>\n",
       "</div>"
      ],
      "text/plain": [
       "  Country Code Continent_Code  internet_users_per_100      Math   Reading  \\\n",
       "0          ALB             EU               63.252933  413.1570  405.2588   \n",
       "1          ARE             AS               90.500000  427.4827  433.5423   \n",
       "2          ARG             SA               68.043064  409.0333  425.3031   \n",
       "3          AUS             OC               84.560519  493.8962  502.9006   \n",
       "4          AUT             EU               83.940142  496.7423  484.8656   \n",
       "\n",
       "    Science  \n",
       "0  427.2250  \n",
       "1  436.7311  \n",
       "2  432.2262  \n",
       "3  509.9939  \n",
       "4  495.0375  "
      ]
     },
     "execution_count": 15,
     "metadata": {},
     "output_type": "execute_result"
    }
   ],
   "source": [
    "df = pd.read_csv('2015 PISA Test - Sheet1.csv',encoding= 'unicode_escape')\n",
    "df.head()"
   ]
  },
  {
   "cell_type": "code",
   "execution_count": 25,
   "id": "dc36ee23",
   "metadata": {},
   "outputs": [
    {
     "name": "stdout",
     "output_type": "stream",
     "text": [
      "EU\n",
      "       internet_users_per_100        Math     Reading     Science\n",
      "count               37.000000   37.000000   37.000000   37.000000\n",
      "mean                77.274888  477.981449  476.164608  478.299381\n",
      "std                 12.425773   35.150403   37.720545   34.450616\n",
      "min                 53.744979  371.311400  351.741500  383.682400\n",
      "25%                 68.632900  464.040100  452.514300  460.774900\n",
      "50%                 76.184000  489.728700  487.250100  490.225000\n",
      "75%                 87.479056  503.722000  499.814600  501.936900\n",
      "max                 98.200000  521.250600  526.424700  534.193700\n",
      "----------------------------------------------------------------------\n",
      "AS\n",
      "       internet_users_per_100        Math     Reading     Science\n",
      "count               17.000000   17.000000   17.000000   17.000000\n",
      "mean                68.455613  466.216647  454.059682  467.945847\n",
      "std                 21.086060   64.356490   57.048962   56.671371\n",
      "min                 21.976068  380.259000  346.549000  386.485400\n",
      "25%                 50.300000  403.833200  408.102200  417.611200\n",
      "50%                 74.000000  459.816000  433.542300  456.483600\n",
      "75%                 84.948353  531.296100  508.690500  523.277400\n",
      "max                 92.884826  564.189700  535.100200  555.574700\n",
      "----------------------------------------------------------------------\n",
      "SA\n",
      "       internet_users_per_100        Math     Reading     Science\n",
      "count                7.000000    7.000000    7.000000    7.000000\n",
      "mean                60.180494  402.887700  425.359229  421.747186\n",
      "std                  9.772455   18.128894   19.709688   18.470319\n",
      "min                 40.900000  377.069500  397.541400  396.683600\n",
      "25%                 57.116462  388.102200  416.126900  408.205450\n",
      "50%                 64.289000  409.033300  425.303100  424.590500\n",
      "75%                 66.321532  417.617650  431.922700  433.794600\n",
      "max                 69.198471  422.671400  458.570900  446.956100\n",
      "----------------------------------------------------------------------\n",
      "OC\n",
      "       internet_users_per_100        Math     Reading     Science\n",
      "count                2.000000    2.000000    2.000000    2.000000\n",
      "mean                86.391704  494.559750  506.085650  511.648700\n",
      "std                  2.589686    0.938401    4.504341    2.340241\n",
      "min                 84.560519  493.896200  502.900600  509.993900\n",
      "25%                 85.476112  494.227975  504.493125  510.821300\n",
      "50%                 86.391704  494.559750  506.085650  511.648700\n",
      "75%                 87.307296  494.891525  507.678175  512.476100\n",
      "max                 88.222889  495.223300  509.270700  513.303500\n",
      "----------------------------------------------------------------------\n",
      "nan\n",
      "       internet_users_per_100  Math  Reading  Science\n",
      "count                     0.0   0.0      0.0      0.0\n",
      "mean                      NaN   NaN      NaN      NaN\n",
      "std                       NaN   NaN      NaN      NaN\n",
      "min                       NaN   NaN      NaN      NaN\n",
      "25%                       NaN   NaN      NaN      NaN\n",
      "50%                       NaN   NaN      NaN      NaN\n",
      "75%                       NaN   NaN      NaN      NaN\n",
      "max                       NaN   NaN      NaN      NaN\n",
      "----------------------------------------------------------------------\n",
      "AF\n",
      "       internet_users_per_100        Math     Reading     Science\n",
      "count                2.000000    2.000000    2.000000    2.000000\n",
      "mean                43.359918  363.212100  355.457400  381.074250\n",
      "std                  7.297226    5.099513    7.916909    7.536556\n",
      "min                 38.200000  359.606200  349.859300  375.745100\n",
      "25%                 40.779959  361.409150  352.658350  378.409675\n",
      "50%                 43.359918  363.212100  355.457400  381.074250\n",
      "75%                 45.939877  365.015050  358.256450  383.738825\n",
      "max                 48.519836  366.818000  361.055500  386.403400\n",
      "----------------------------------------------------------------------\n"
     ]
    }
   ],
   "source": [
    "for i in df.Continent_Code.unique():\n",
    "    print(i)\n",
    "    print(df[df[\"Continent_Code\"]==i].describe())\n",
    "    print(70*\"-\")"
   ]
  },
  {
   "cell_type": "code",
   "execution_count": 34,
   "id": "f0f2fcfd",
   "metadata": {},
   "outputs": [],
   "source": [
    "eu_scores = df[df[\"Continent_Code\"]==\"EU\"]\n",
    "as_scores = df[df[\"Continent_Code\"]==\"AS\"]"
   ]
  },
  {
   "cell_type": "code",
   "execution_count": 35,
   "id": "7ac8bfec",
   "metadata": {},
   "outputs": [
    {
     "data": {
      "text/plain": [
       "Ttest_indResult(statistic=0.870055317967983, pvalue=0.38826888111307345)"
      ]
     },
     "execution_count": 35,
     "metadata": {},
     "output_type": "execute_result"
    }
   ],
   "source": [
    "twosample = stats.ttest_ind(eu_scores.Math, as_scores.Math)\n",
    "twosample"
   ]
  },
  {
   "cell_type": "code",
   "execution_count": 37,
   "id": "3370581d",
   "metadata": {},
   "outputs": [
    {
     "data": {
      "image/png": "[encoded data removed]",
      "text/plain": [
       "<Figure size 640x480 with 1 Axes>"
      ]
     },
     "metadata": {},
     "output_type": "display_data"
    }
   ],
   "source": [
    "plt.boxplot([eu_scores.Math, as_scores.Math], labels=['EU', 'AS'])\n",
    "plt.xlabel('Continent')\n",
    "plt.ylabel('Math Scores')\n",
    "plt.title('Math Scores by Continent (EU vs AS)')\n",
    "plt.show()"
   ]
  }
 ],
 "metadata": {
  "kernelspec": {
   "display_name": "Python 3 (ipykernel)",
   "language": "python",
   "name": "python3"
  },
  "language_info": {
   "codemirror_mode": {
    "name": "ipython",
    "version": 3
   },
   "file_extension": ".py",
   "mimetype": "text/x-python",
   "name": "python",
   "nbconvert_exporter": "python",
   "pygments_lexer": "ipython3",
   "version": "3.10.9"
  }
 },
 "nbformat": 4,
 "nbformat_minor": 5
}
